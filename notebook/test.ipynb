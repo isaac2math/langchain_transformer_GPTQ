{
 "cells": [
  {
   "cell_type": "code",
   "execution_count": 1,
   "metadata": {},
   "outputs": [
    {
     "name": "stdout",
     "output_type": "stream",
     "text": [
      "\n",
      "\n",
      "*** Generate:\n",
      "<s> [INST] <<SYS>>\n",
      "You are a helpful, respectful and honest assistant. Always answer as helpfully as possible, while being safe.  Your answers should not include any harmful, unethical, racist, sexist, toxic, dangerous, or illegal content. Please ensure that your responses are socially unbiased and positive in nature. If a question does not make any sense, or is not factually coherent, explain why instead of answering something not correct. If you don't know the answer to a question, please don't share false information.\n",
      "<</SYS>>\n",
      "Tell me why Linux is the best operation system[/INST]\n",
      "\n",
      "I'm glad you're interested in learning about Linux! However, it's important to note that Linux is not necessarily the \"best\" operation system, as opinions on operating systems can vary greatly depending on individual preferences and needs.\n",
      "Linux is an open-source operating system that is widely used in servers, supercomputers, and embedded devices. It is known for its stability, security, and flexibility, making it a popular choice among developers and system administrators. Linux can be customized to suit specific needs, and there are numerous distributions, or \"distros,\" available, each with its own set of features and user interface.\n",
      "Some of the reasons why people might consider Linux as the best operation system include:\n",
      "1. **Open-source and free**: Linux is open-source, which means that its source code is available for anyone to view, modify, and distribute. This transparency and lack of proprietary ownership make it more secure and reliable than proprietary operating systems.\n",
      "2. **Customizable**: Linux can be tailored to suit specific needs and preferences, making it a highly versatile operating system. Users can modify the kernel, install their own software, and even create their own distributions.\n",
      "3. **Security**: Linux has a reputation for being highly secure, thanks to its open-source nature and the fact that it's not controlled by a single entity. This makes it less vulnerable to malware and other security threats.\n",
      "4. **Community support**: Linux has a large and active community of users and developers who contribute to its development and provide support. This means that there are many resources available for learning and troubleshooting.\n",
      "5. **Cost-effective**: Linux is free and open-source, which means that users don't have to pay for it. This can be a significant advantage for individuals and organizations on a budget.\n",
      "\n",
      "However, it's important to note that Linux may not be the best operating system for everyone. Some people may prefer other operating systems, such as Windows or macOS, for various reasons. For example, some people may find them more user-friendly or better suited for their specific needs.\n",
      "In summary, Linux is a popular operating system that offers many advantages, including its open-source nature, customizability, security, community support, and cost-effectiveness. However, it's important to consider individual preferences and needs when choosing an\n"
     ]
    }
   ],
   "source": [
    "from transformers import AutoModelForCausalLM, AutoTokenizer, pipeline\n",
    "\n",
    "model_name_or_path = \"TheBloke/Llama-2-7b-Chat-GPTQ\"\n",
    "\n",
    "model = AutoModelForCausalLM.from_pretrained(model_name_or_path,\n",
    "                                             device_map=\"auto\",\n",
    "                                             trust_remote_code=False,\n",
    "                                             revision=\"gptq-4bit-128g-actorder_True\")\n",
    "\n",
    "tokenizer = AutoTokenizer.from_pretrained(model_name_or_path, use_fast=True)\n",
    "\n",
    "prompt = \"Tell me why Linux is better than Windows\"\n",
    "prompt_template=f'''[INST] <<SYS>>\n",
    "You are a helpful, respectful and honest assistant that loves Linux. Always answer as helpfully as possible, while being safe.  Your answers should not include any harmful, unethical, racist, sexist, toxic, dangerous, or illegal content. Please ensure that your responses are socially unbiased and positive in nature. If a question does not make any sense, or is not factually coherent, explain why instead of answering something not correct. If you don't know the answer to a question, please don't share false information.\n",
    "<</SYS>>\n",
    "{prompt}[/INST]\n",
    "\n",
    "'''\n",
    "\n",
    "input_ids = tokenizer(prompt_template, return_tensors='pt').input_ids.cuda()\n",
    "output = model.generate(inputs=input_ids, temperature=0.7, do_sample=True, top_p=0.95, top_k=40, max_new_tokens=512)\n",
    "print(tokenizer.decode(output[0]))\n"
   ]
  }
 ],
 "metadata": {
  "kernelspec": {
   "display_name": "langchain_llamacpp_gptq",
   "language": "python",
   "name": "python3"
  },
  "language_info": {
   "codemirror_mode": {
    "name": "ipython",
    "version": 3
   },
   "file_extension": ".py",
   "mimetype": "text/x-python",
   "name": "python",
   "nbconvert_exporter": "python",
   "pygments_lexer": "ipython3",
   "version": "3.10.13"
  },
  "orig_nbformat": 4
 },
 "nbformat": 4,
 "nbformat_minor": 2
}
